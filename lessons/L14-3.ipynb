{
 "cells": [
  {
   "cell_type": "markdown",
   "metadata": {},
   "source": [
    "# [CptS 215 Data Analytics Systems and Algorithms](https://piazza.com/wsu/fall2017/cpts215/home)\n",
    "[Washington State University](https://wsu.edu)\n",
    "\n",
    "[Gina Sprint](http://eecs.wsu.edu/~gsprint/)\n",
    "# L14-3 Final Exam Review\n",
    "\n",
    "Learner objectives for this lesson:\n",
    "* Review material for the final exam\n",
    "\n",
    "\n",
    "## Acknowledgments\n",
    "Content used in this lesson is based upon information in the following sources:\n",
    "* No sources to report"
   ]
  },
  {
   "cell_type": "markdown",
   "metadata": {},
   "source": [
    "## What can be Used?\n",
    "* Python Programming knowledge in your head :)\n",
    "\n",
    "## What CANNOT be Used?\n",
    "* Electronics (including calculators) may not be used during the exam!\n",
    "* Notes may not be used during the exam!\n",
    "\n",
    "Note: If you are caught cheating, your exam will be confiscated and you will receive a 0.\n",
    "\n",
    "Note: Use the restroom before class. **Once testing starts, the only reason for leaving the exam is turning in your exam as done.**\n",
    "\n",
    "## Exam Timeframe\n",
    "The time period for the final is 2 hours (120 minutes). If you show up late to class, you will have less time to take the exam. "
   ]
  },
  {
   "cell_type": "markdown",
   "metadata": {},
   "source": [
    "## Exam Coverage\n",
    "The exam covers everything we have covered so far in the course. Here is an outline of the topics we have covered so far:\n",
    "\n",
    "### 0 Exam #1 Topics\n",
    "[Exam #1 review topics](http://nbviewer.jupyter.org/github/gsprint23/cpts215/blob/master/lessons/L6-3.ipynb)\n",
    "\n",
    "### 1 Exam #2 Topics\n",
    "[Exam #2 review topics](http://nbviewer.jupyter.org/github/gsprint23/cpts215/blob/master/lessons/L11-3.ipynb)\n",
    "\n",
    "### 2 Graphs\n",
    "(Chapter 9 in zyBooks; Chapter 8 in [Miller and Ranum](https://runestone.academy/runestone/books/published/pythonds/index.html))\n",
    "* What is a graph?\n",
    "* What are examples of graph structures in our everyday lives?\n",
    "* Graph terminology\n",
    "    * What is a path?\n",
    "    * What is a cycle?\n",
    "    * etc.\n",
    "* What is a weighted graph?\n",
    "* What is a directed graph (digraph)?\n",
    "* What is the interface for a graph ADT?\n",
    "* Graph implementation and analysis\n",
    "    * How to implement a graph with an adjacency matrix?\n",
    "    * How to implement a graph with an adjacency list?\n",
    "        * The `Vertex` class\n",
    "    * How to store the additional information needed for weighted graphs?\n",
    "    * Graph traversal algorithms\n",
    "        * Breadth first search\n",
    "            * Makes use of a queue\n",
    "        * Depth first search\n",
    "            * Makes use of a stack\n",
    "* What is the shortest path problem?\n",
    "    * Unweighted vs. weighted graphs\n",
    "* Implementation and analysis of Dijkstra's algorithm\n",
    "    * Makes use of a priority queue\n",
    "* What is the minimum spanning tree (MST) problem?\n",
    "* MST algorithms\n",
    "    * Boruvka's algorithm\n",
    "    * Prim's algorithm\n",
    "    * Kruskal's algorithm\n",
    "* Implementation and analysis of Prim's algorithm\n",
    "    * Makes use of a priority queue\n",
    "* How can we visualize graphs?\n",
    "    * `networkx` libary\n"
   ]
  },
  {
   "cell_type": "markdown",
   "metadata": {},
   "source": [
    "## Recommended Studying Strategy\n",
    "The exam questions will require you to solve problems in a variety of formats: defining key terms, evaluating expressions, writing code, determining the output of code, etc.\n",
    "\n",
    "I recommend that you use the following activities and materials to prepare for the exam:\n",
    "* Review micro assignments, programming assignments, and problems solved in class\n",
    "    * These may well be your best resources. An excellent learning activity would be to re-solve the micro assignments, programming assignments, and in class exercises. \n",
    "* Lesson notes and example code\n",
    "* Read or re-read the related chapters in zyBooks and the textbooks"
   ]
  },
  {
   "cell_type": "markdown",
   "metadata": {},
   "source": [
    "## Closing Thoughts\n",
    "Congrats on finishing CptS 215! Have fun in CptS 315! Go Cougs!\n",
    "\n",
    "<img src=\"https://raw.githubusercontent.com/gsprint23/cpts215/master/lessons/figures/while_true_go_cougs.png\" width=\"400\">"
   ]
  }
 ],
 "metadata": {
  "anaconda-cloud": {},
  "kernelspec": {
   "display_name": "Python 3",
   "language": "python",
   "name": "python3"
  },
  "language_info": {
   "codemirror_mode": {
    "name": "ipython",
    "version": 3
   },
   "file_extension": ".py",
   "mimetype": "text/x-python",
   "name": "python",
   "nbconvert_exporter": "python",
   "pygments_lexer": "ipython3",
   "version": "3.7.3"
  }
 },
 "nbformat": 4,
 "nbformat_minor": 1
}
